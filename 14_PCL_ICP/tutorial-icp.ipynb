{
 "cells": [
  {
   "cell_type": "markdown",
   "metadata": {},
   "source": [
    "# Sensing and Intelligent System Tutorial: ICP (known correspondence)\n",
    "\n",
    "By Nick Wang"
   ]
  },
  {
   "cell_type": "markdown",
   "metadata": {},
   "source": [
    "## Import Packages"
   ]
  },
  {
   "cell_type": "code",
   "execution_count": 1,
   "metadata": {},
   "outputs": [],
   "source": [
    "import numpy as np\n",
    "import scipy as sp\n",
    "import cv2\n",
    "import time\n",
    "from matplotlib import pyplot as plt\n",
    "\n",
    "from skimage.measure import LineModelND, ransac\n",
    "\n",
    "%matplotlib inline\n",
    "# set display defaults\n",
    "plt.rcParams['figure.figsize'] = (10, 10)        # large images\n",
    "plt.rcParams['image.interpolation'] = 'nearest'  # don't interpolate: show square pixels"
   ]
  },
  {
   "cell_type": "markdown",
   "metadata": {
    "collapsed": true
   },
   "source": [
    "## ICP Exercise\n",
    "\n",
    "In this exercise you will use a standard ICP algorithm with the point-to-point distance metric to estimate the transform between the 2D datasets (model - red and target - green) depicted in the below figure. For the correspondence estimation please use the nearest neighbor search with the maximum radius set to 4 grid units."
   ]
  },
  {
   "cell_type": "markdown",
   "metadata": {},
   "source": [
    "### 1. Find Point Pairs. You should be careful about the NN search radius, and reject outlier."
   ]
  },
  {
   "cell_type": "code",
   "execution_count": 2,
   "metadata": {},
   "outputs": [
    {
     "data": {
      "text/plain": [
       "[0, 18, 0, 18]"
      ]
     },
     "execution_count": 2,
     "metadata": {},
     "output_type": "execute_result"
    },
    {
     "data": {
      "image/png": "[encoded data removed]",
      "text/plain": [
       "<Figure size 432x288 with 1 Axes>"
      ]
     },
     "metadata": {
      "needs_background": "light"
     },
     "output_type": "display_data"
    }
   ],
   "source": [
    "plt.plot([3,7,9,13], [2,0,5,11], 'ro')\n",
    "plt.plot([2,6,6,6], [2,2,6,8], 'go')\n",
    "plt.axis([0, 18, 0, 18])"
   ]
  },
  {
   "cell_type": "markdown",
   "metadata": {},
   "source": [
    "### 2. Compute Centroids"
   ]
  },
  {
   "cell_type": "code",
   "execution_count": 3,
   "metadata": {},
   "outputs": [
    {
     "name": "stdout",
     "output_type": "stream",
     "text": [
      "[4.6666665 3.3333333]\n",
      "[6.3333335 2.3333333]\n"
     ]
    }
   ],
   "source": [
    "p_1t = np.array([2, 2], dtype='f')\n",
    "p_2t = np.array([6, 2], dtype='f')\n",
    "p_3t = np.array([6, 6], dtype='f')\n",
    "p_ct = (p_1t + p_2t + p_3t)/3\n",
    "print p_ct\n",
    "\n",
    "p_1m = np.array([3, 2], dtype='f')\n",
    "p_2m = np.array([7, 0], dtype='f')\n",
    "p_3m = np.array([9, 5], dtype='f')\n",
    "p_cm = (p_1m + p_2m + p_3m)/3\n",
    "print p_cm"
   ]
  },
  {
   "cell_type": "markdown",
   "metadata": {},
   "source": [
    "### 3. Build the Correlation Matrix H\n",
    "\n",
    "You should fill in XXX."
   ]
  },
  {
   "cell_type": "code",
   "execution_count": 5,
   "metadata": {},
   "outputs": [],
   "source": [
    "# p_1td = XXX\n",
    "# p_2td = XXX\n",
    "# p_3td = XXX\n",
    "# print p_1td, p_2td, p_3td\n",
    "\n",
    "# p_1tm = XXX\n",
    "# p_2tm = XXX\n",
    "# p_3tm = XXX\n",
    "# print p_1tm, p_2tm, p_3tm\n",
    "\n",
    "# Mtd = np.vstack((p_1td, p_2td, p_3td)).transpose()\n",
    "# print Mtd\n",
    "# Mmd = np.vstack((p_1tm, p_2tm, p_3tm)).transpose()\n",
    "# print Mmd\n",
    "\n",
    "#H = XXX\n",
    "#print H\n"
   ]
  },
  {
   "cell_type": "markdown",
   "metadata": {},
   "source": [
    "### 4. Estimate Rotation Matrix R using SVD\n",
    "\n",
    "Hint: np.linalg.svd()"
   ]
  },
  {
   "cell_type": "code",
   "execution_count": null,
   "metadata": {
    "collapsed": true
   },
   "outputs": [],
   "source": []
  },
  {
   "cell_type": "markdown",
   "metadata": {},
   "source": [
    "### 5. Estimate the translation vector t"
   ]
  },
  {
   "cell_type": "code",
   "execution_count": null,
   "metadata": {
    "collapsed": true
   },
   "outputs": [],
   "source": []
  },
  {
   "cell_type": "markdown",
   "metadata": {},
   "source": [
    "### 6. Calculate the transform T"
   ]
  },
  {
   "cell_type": "code",
   "execution_count": null,
   "metadata": {
    "collapsed": true
   },
   "outputs": [],
   "source": []
  },
  {
   "cell_type": "markdown",
   "metadata": {},
   "source": [
    "### 7. Transform Dataset m using the transform T"
   ]
  },
  {
   "cell_type": "code",
   "execution_count": null,
   "metadata": {
    "collapsed": true
   },
   "outputs": [],
   "source": []
  },
  {
   "cell_type": "markdown",
   "metadata": {},
   "source": [
    "### Visualization"
   ]
  },
  {
   "cell_type": "code",
   "execution_count": null,
   "metadata": {},
   "outputs": [],
   "source": []
  }
 ],
 "metadata": {
  "anaconda-cloud": {},
  "kernelspec": {
   "display_name": "Python 2",
   "language": "python",
   "name": "python2"
  },
  "language_info": {
   "codemirror_mode": {
    "name": "ipython",
    "version": 2
   },
   "file_extension": ".py",
   "mimetype": "text/x-python",
   "name": "python",
   "nbconvert_exporter": "python",
   "pygments_lexer": "ipython2",
   "version": "2.7.12"
  }
 },
 "nbformat": 4,
 "nbformat_minor": 1
}
